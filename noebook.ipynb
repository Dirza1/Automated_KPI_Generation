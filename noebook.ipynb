{
 "cells": [
  {
   "cell_type": "code",
   "execution_count": 2,
   "id": "d50ec02d",
   "metadata": {},
   "outputs": [],
   "source": [
    "import pandas as pd\n",
    "\n",
    "df = pd.read_excel(\"./report_excels/sales_apr.xlsx\")"
   ]
  },
  {
   "cell_type": "code",
   "execution_count": 4,
   "id": "5c96f568",
   "metadata": {},
   "outputs": [
    {
     "name": "stdout",
     "output_type": "stream",
     "text": [
      "    OrderID       Date   Customer Region   Product  Quantity  UnitPrice\n",
      "0      4001 2024-04-28  Gamma Inc  North  Widget C        23         25\n",
      "1      4002 2024-04-13   Beta Ltd  North  Widget A        15         25\n",
      "2      4003 2024-04-07  Gamma Inc   West  Widget C        24         40\n",
      "3      4004 2024-04-25   Delta BV  South  Widget B        19         15\n",
      "4      4005 2024-04-04   Delta BV   East  Widget A         8         40\n",
      "5      4006 2024-04-25  Gamma Inc  North  Widget C        18         15\n",
      "6      4007 2024-04-13   Delta BV  North  Widget B        19         40\n",
      "7      4008 2024-04-07   Delta BV  North  Widget B         5         15\n",
      "8      4009 2024-04-01  Acme Corp   East  Widget C        21         25\n",
      "9      4010 2024-04-16  Gamma Inc  South  Widget B        21         15\n",
      "10     4011 2024-04-10  Gamma Inc   East  Widget A        17         15\n",
      "11     4012 2024-04-28   Delta BV   East  Widget A        22         40\n",
      "12     4013 2024-04-13  Gamma Inc  North  Widget C        23         15\n",
      "13     4014 2024-04-16  Gamma Inc   West  Widget C         8         15\n",
      "14     4015 2024-04-13   Delta BV   East  Widget C        10         15\n",
      "15     4016 2024-04-13  Acme Corp   West  Widget C        14         40\n",
      "16     4017 2024-04-07   Delta BV  North  Widget C        16         40\n",
      "17     4018 2024-04-19   Beta Ltd   East  Widget A        23         25\n",
      "18     4019 2024-04-25   Beta Ltd   East  Widget C        13         40\n",
      "19     4020 2024-04-25  Acme Corp   West  Widget A        24         15\n"
     ]
    }
   ],
   "source": [
    "print(df)"
   ]
  },
  {
   "cell_type": "code",
   "execution_count": 3,
   "id": "e409074e",
   "metadata": {},
   "outputs": [],
   "source": [
    "gamme = df[(df[\"Customer\"] == \"Gamma Inc\")]"
   ]
  },
  {
   "cell_type": "code",
   "execution_count": 14,
   "id": "7ccbe2c1",
   "metadata": {},
   "outputs": [
    {
     "name": "stdout",
     "output_type": "stream",
     "text": [
      "count =134 and total =2840\n"
     ]
    },
    {
     "name": "stderr",
     "output_type": "stream",
     "text": [
      "/tmp/ipykernel_43648/685379943.py:4: FutureWarning: Series.__getitem__ treating keys as positions is deprecated. In a future version, integer keys will always be treated as labels (consistent with DataFrame behavior). To access a value by position, use `ser.iloc[pos]`\n",
      "  count += col[1][5]\n",
      "/tmp/ipykernel_43648/685379943.py:5: FutureWarning: Series.__getitem__ treating keys as positions is deprecated. In a future version, integer keys will always be treated as labels (consistent with DataFrame behavior). To access a value by position, use `ser.iloc[pos]`\n",
      "  total += col[1][5]* col[1][6]\n"
     ]
    }
   ],
   "source": [
    "count = 0\n",
    "total = 0\n",
    "for col in gamme.iterrows():\n",
    "    count += col[1][5]\n",
    "    total += col[1][5]* col[1][6] \n",
    "print(f\"{count =} and {total =}\")"
   ]
  }
 ],
 "metadata": {
  "kernelspec": {
   "display_name": "base",
   "language": "python",
   "name": "python3"
  },
  "language_info": {
   "codemirror_mode": {
    "name": "ipython",
    "version": 3
   },
   "file_extension": ".py",
   "mimetype": "text/x-python",
   "name": "python",
   "nbconvert_exporter": "python",
   "pygments_lexer": "ipython3",
   "version": "3.13.5"
  }
 },
 "nbformat": 4,
 "nbformat_minor": 5
}
